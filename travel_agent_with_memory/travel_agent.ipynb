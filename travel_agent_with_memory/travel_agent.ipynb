{
  "cells": [
    {
      "cell_type": "markdown",
      "metadata": {
        "id": "tnwWRUjkkt_3"
      },
      "source": [
        "# Creating Travel Agent with MultiOn and Mem0\n",
        "\n",
        "In this recipe, we'll demonstrate how to create a travel agent that provides information and details regarding your travel. The best part is that it is capable of remembering your conversation using `mem0`."
      ]
    },
    {
      "cell_type": "code",
      "execution_count": null,
      "metadata": {
        "colab": {
          "base_uri": "https://localhost:8080/",
          "height": 1000
        },
        "collapsed": true,
        "id": "fu3euPKZsbaC",
        "outputId": "26a25e56-c593-489f-8781-9200b8c03b6a"
      },
      "outputs": [],
      "source": [
        "%pip install multion mem0ai"
      ]
    },
    {
      "cell_type": "code",
      "execution_count": 1,
      "metadata": {
        "id": "U2VC_0FElQid"
      },
      "outputs": [],
      "source": [
        "import os\n",
        "from openai import OpenAI\n",
        "from mem0 import MemoryClient\n",
        "from multion.client import MultiOn\n",
        "\n",
        "# Configuration\n",
        "OPENAI_API_KEY = \"sk-xxx\"  # Get your OpenAI API key\n",
        "MULTION_API_KEY = \"xx\"  # Get your MultiOn API key from https://app.multion.ai/api-keys\n",
        "MEM0_API_KEY = \"m0-xx\"  # Get your Mem0 API key from https://app.mem0.ai/dashboard/api-keys\n",
        "USER_ID = \"travel_agent\"\n",
        "\n",
        "# Set up OpenAI API key\n",
        "os.environ['OPENAI_API_KEY'] = OPENAI_API_KEY"
      ]
    },
    {
      "cell_type": "markdown",
      "metadata": {},
      "source": [
        "### Create Travel Agent"
      ]
    },
    {
      "cell_type": "code",
      "execution_count": null,
      "metadata": {
        "id": "us3LwKCumiHF"
      },
      "outputs": [],
      "source": [
        "class TravelAIAgent:\n",
        "    def __init__(self):\n",
        "        # Initialize Mem0 and MultiOn\n",
        "        self.memory = MemoryClient(api_key=MEM0_API_KEY)\n",
        "        self.multion = MultiOn(api_key=MULTION_API_KEY)\n",
        "\n",
        "    def ask_question(self, question, user_id):\n",
        "        # Fetch previous related memories\n",
        "        previous_memories = self.search_memories(question, USER_ID)\n",
        "        relevant_memories_text = \"\"\n",
        "        if previous_memories:\n",
        "            print(\"Using previous memories to enhance the search...\")\n",
        "            relevant_memories_text = '\\n'.join(mem for mem in previous_memories)\n",
        "\n",
        "        command = \"Find travel information based on my interests:\"\n",
        "        prompt = f\"{command}\\n Question: {question} \\n My preferences: {relevant_memories_text}\"\n",
        "        browse_result = self.multion.browse(cmd=prompt)\n",
        "        answer = browse_result.message\n",
        "\n",
        "        messages = [\n",
        "            {\"role\": \"user\", \"content\": prompt},\n",
        "            {\"role\": \"assistant\", \"content\": answer}\n",
        "        ]\n",
        "\n",
        "        self.memory.add(messages, user_id=user_id)\n",
        "        return answer\n",
        "\n",
        "    def search_memories(self, query, user_id):\n",
        "        memories = self.memory.search(query, user_id=user_id)\n",
        "        return [m['memory'] for m in memories]"
      ]
    },
    {
      "cell_type": "markdown",
      "metadata": {},
      "source": [
        "### Chat with Travel Agent"
      ]
    },
    {
      "cell_type": "code",
      "execution_count": null,
      "metadata": {
        "colab": {
          "base_uri": "https://localhost:8080/"
        },
        "id": "CzcPrt6ixoH8",
        "outputId": "23ffe5b8-a07d-4026-f722-7bc68c811133"
      },
      "outputs": [],
      "source": [
        "ai_assistant = TravelAIAgent()\n",
        "\n",
        "while True:\n",
        "    question = input(\"Question: \")\n",
        "    if question.lower() in ['q', 'exit']:\n",
        "        print(\"Exiting...\")\n",
        "        break\n",
        "\n",
        "    answer = ai_assistant.ask_question(question, user_id=USER_ID)\n",
        "    print(\"---------------------------------------\")\n",
        "    print(f\"Answer: {answer}\")\n",
        "    print(\"---------------------------------------\")"
      ]
    }
  ],
  "metadata": {
    "colab": {
      "provenance": []
    },
    "kernelspec": {
      "display_name": ".venv",
      "language": "python",
      "name": "python3"
    },
    "language_info": {
      "codemirror_mode": {
        "name": "ipython",
        "version": 3
      },
      "file_extension": ".py",
      "mimetype": "text/x-python",
      "name": "python",
      "nbconvert_exporter": "python",
      "pygments_lexer": "ipython3",
      "version": "3.12.3"
    }
  },
  "nbformat": 4,
  "nbformat_minor": 0
}
